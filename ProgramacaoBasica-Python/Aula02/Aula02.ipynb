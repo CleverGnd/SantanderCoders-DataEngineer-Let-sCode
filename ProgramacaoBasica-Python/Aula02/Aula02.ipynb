{
 "cells": [
  {
   "cell_type": "markdown",
   "metadata": {},
   "source": [
    "# Introdução - Python"
   ]
  },
  {
   "cell_type": "markdown",
   "metadata": {},
   "source": [
    "## IDE\n",
    "\n",
    "Uma IDE é a sigla para Integrated Development Environment e designa um software que reúne ferramentas comuns de desenvolvedor em uma única interface gráfica do usuário (GUI). \n",
    "\n",
    "\n",
    "Visual Studio Code - Extensão Jupyter\n",
    "\n",
    "Colab google - https://colab.research.google.com/\n",
    "\n",
    "Deep note - https://deepnote.com/\n",
    "\n",
    "JupyterLite - https://jupyter.org/try\n",
    "\n",
    "Kaggle Kernels - https://www.kaggle.com/\n",
    "\n",
    "Diversas opções:\n",
    "\n",
    "https://cocalc.com/features/jupyter-notebook\n",
    "https://www.codingrooms.com/compiler/jupyter-notebook\n",
    "https://mybinder.org/"
   ]
  },
  {
   "cell_type": "markdown",
   "metadata": {},
   "source": [
    "## Jupyter\n",
    "\n",
    "\n",
    "Os notebooks são uma forma de programação literária (documentação seja escrita como uma narrativa junto ao código em vez de ser uma coisa independente).\n",
    "\n",
    "O ponto central é o servidor do notebook. A conexão é feita no servidor por seu navegador e o notebook é carregado como um aplicativo web. O código escrito nesse aplicativo é mandado pelo servidor para o núcleo. O núcleo roda o código e o manda de volta para o servidor, então, o output é carregado no navegador. Ao salvar um notebook, ele é escrito no servidor como um arquivo JSON com a extensão .ipynb. O novo nome, Jupyter, vem da combinação dos nomes Julia, Python e R. Outra vantagem é que o servidor pode ser rodado e acessado via Internet. Normalmente, você rodará o servidor em sua própria máquina, onde todos os dados e arquivos notebook estão salvos. Mas, é possível também configurar um servidor em uma máquina remota ou instância de nuvem, como a EC2, da Amazon. Então, você pode acessar os notebooks em um navegador de qualquer lugar do planeta."
   ]
  },
  {
   "cell_type": "markdown",
   "metadata": {},
   "source": [
    "### jupyter notebook \n",
    "\n",
    "Links:     [Let's Code home page](https://letscode.com.br/)  \n",
    "Enfase:      Para itálico, inicie e termine o texto com um asterisco ou sublinhado, `_gelato_` ou `*gelato*` geram gelato. Texto em negrito usa dois símbolos, **abacate** ou __abacate__ geram abacate.\n",
    "Código  \n",
    "Existem duas maneiras diferentes de mostrar código, dentro do texto ou como um bloco de código separado do texto. Para o formato dentro do texto, insira acentos graves antes e depois do código. Por exemplo, `string.punctuation` gera string.punctuation.\n",
    "Expressões matemáticas É possível criar expressões matemáticas em células markdown usando os símbolos do LaTeX\n",
    "\n",
    "Cheat sheet:     https://github.com/adam-p/markdown-here/wiki/Markdown-Cheatsheet\n",
    "\n"
   ]
  },
  {
   "cell_type": "code",
   "execution_count": 1,
   "metadata": {},
   "outputs": [
    {
     "name": "stdout",
     "output_type": "stream",
     "text": [
      "3\n"
     ]
    }
   ],
   "source": [
    "x = 1 + 2\n",
    "print(x)"
   ]
  },
  {
   "cell_type": "markdown",
   "metadata": {},
   "source": [
    "Vamos criar um arquivo chamado exemplo.py dentro da aula 02\n",
    "\n",
    "\n",
    "Como rodar o arquivo aexemplo.py  no terminal?\n",
    "\n",
    "- Abrir o terminal\n",
    "- Ir até a pasta onde se encontra o arquivo ou clicar com o botão direito em cima do exemplo e selecionar \"Abrir no terminal integrado\"\n",
    "- digitar python exemplo.py"
   ]
  },
  {
   "cell_type": "markdown",
   "metadata": {},
   "source": []
  }
 ],
 "metadata": {
  "kernelspec": {
   "display_name": "Python 3.9.7 ('base')",
   "language": "python",
   "name": "python3"
  },
  "language_info": {
   "codemirror_mode": {
    "name": "ipython",
    "version": 3
   },
   "file_extension": ".py",
   "mimetype": "text/x-python",
   "name": "python",
   "nbconvert_exporter": "python",
   "pygments_lexer": "ipython3",
   "version": "3.9.7"
  },
  "orig_nbformat": 4,
  "vscode": {
   "interpreter": {
    "hash": "5c66de18c091297d67c9a295278ca9503b5163a383fa85591c3cdb6daec33020"
   }
  }
 },
 "nbformat": 4,
 "nbformat_minor": 2
}
